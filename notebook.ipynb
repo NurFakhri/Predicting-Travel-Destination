{
  "nbformat": 4,
  "nbformat_minor": 0,
  "metadata": {
    "colab": {
      "provenance": []
    },
    "kernelspec": {
      "name": "python3",
      "display_name": "Python 3"
    },
    "language_info": {
      "name": "python"
    }
  },
  "cells": [
    {
      "cell_type": "code",
      "source": [
        "from google.colab import drive\n",
        "drive.mount('/content/drive')\n"
      ],
      "metadata": {
        "colab": {
          "base_uri": "https://localhost:8080/"
        },
        "id": "CfI0tzdanAmu",
        "outputId": "986441fd-1383-43be-c61a-901b070bc0e1"
      },
      "execution_count": null,
      "outputs": [
        {
          "output_type": "stream",
          "name": "stdout",
          "text": [
            "Mounted at /content/drive\n"
          ]
        }
      ]
    },
    {
      "cell_type": "code",
      "source": [
        "!pip install pytorch-tabnet"
      ],
      "metadata": {
        "colab": {
          "base_uri": "https://localhost:8080/"
        },
        "id": "YKqgqv0ZpKQJ",
        "outputId": "52e52403-02ca-47ef-aea9-e4b517eb435e"
      },
      "execution_count": null,
      "outputs": [
        {
          "output_type": "stream",
          "name": "stdout",
          "text": [
            "Collecting pytorch-tabnet\n",
            "  Downloading pytorch_tabnet-4.1.0-py3-none-any.whl.metadata (15 kB)\n",
            "Requirement already satisfied: numpy>=1.17 in /usr/local/lib/python3.10/dist-packages (from pytorch-tabnet) (1.26.4)\n",
            "Requirement already satisfied: scikit_learn>0.21 in /usr/local/lib/python3.10/dist-packages (from pytorch-tabnet) (1.6.0)\n",
            "Requirement already satisfied: scipy>1.4 in /usr/local/lib/python3.10/dist-packages (from pytorch-tabnet) (1.13.1)\n",
            "Requirement already satisfied: torch>=1.3 in /usr/local/lib/python3.10/dist-packages (from pytorch-tabnet) (2.5.1+cu121)\n",
            "Requirement already satisfied: tqdm>=4.36 in /usr/local/lib/python3.10/dist-packages (from pytorch-tabnet) (4.67.1)\n",
            "Requirement already satisfied: joblib>=1.2.0 in /usr/local/lib/python3.10/dist-packages (from scikit_learn>0.21->pytorch-tabnet) (1.4.2)\n",
            "Requirement already satisfied: threadpoolctl>=3.1.0 in /usr/local/lib/python3.10/dist-packages (from scikit_learn>0.21->pytorch-tabnet) (3.5.0)\n",
            "Requirement already satisfied: filelock in /usr/local/lib/python3.10/dist-packages (from torch>=1.3->pytorch-tabnet) (3.16.1)\n",
            "Requirement already satisfied: typing-extensions>=4.8.0 in /usr/local/lib/python3.10/dist-packages (from torch>=1.3->pytorch-tabnet) (4.12.2)\n",
            "Requirement already satisfied: networkx in /usr/local/lib/python3.10/dist-packages (from torch>=1.3->pytorch-tabnet) (3.4.2)\n",
            "Requirement already satisfied: jinja2 in /usr/local/lib/python3.10/dist-packages (from torch>=1.3->pytorch-tabnet) (3.1.4)\n",
            "Requirement already satisfied: fsspec in /usr/local/lib/python3.10/dist-packages (from torch>=1.3->pytorch-tabnet) (2024.10.0)\n",
            "Requirement already satisfied: sympy==1.13.1 in /usr/local/lib/python3.10/dist-packages (from torch>=1.3->pytorch-tabnet) (1.13.1)\n",
            "Requirement already satisfied: mpmath<1.4,>=1.1.0 in /usr/local/lib/python3.10/dist-packages (from sympy==1.13.1->torch>=1.3->pytorch-tabnet) (1.3.0)\n",
            "Requirement already satisfied: MarkupSafe>=2.0 in /usr/local/lib/python3.10/dist-packages (from jinja2->torch>=1.3->pytorch-tabnet) (3.0.2)\n",
            "Downloading pytorch_tabnet-4.1.0-py3-none-any.whl (44 kB)\n",
            "\u001b[2K   \u001b[90m━━━━━━━━━━━━━━━━━━━━━━━━━━━━━━━━━━━━━━━━\u001b[0m \u001b[32m44.5/44.5 kB\u001b[0m \u001b[31m2.3 MB/s\u001b[0m eta \u001b[36m0:00:00\u001b[0m\n",
            "\u001b[?25hInstalling collected packages: pytorch-tabnet\n",
            "Successfully installed pytorch-tabnet-4.1.0\n"
          ]
        }
      ]
    },
    {
      "cell_type": "code",
      "source": [
        "import pandas as pd\n",
        "import numpy as np\n",
        "import matplotlib.pyplot as plt\n",
        "import seaborn as sns\n",
        "import torch\n",
        "import torch.nn as nn\n",
        "import torch.optim as optim\n",
        "from sklearn.model_selection import train_test_split\n",
        "from sklearn.preprocessing import LabelEncoder, StandardScaler\n",
        "from sklearn.metrics import classification_report, confusion_matrix\n",
        "from torch.utils.data import DataLoader, TensorDataset\n",
        "from pytorch_tabnet.tab_model import TabNetClassifier\n",
        "import joblib"
      ],
      "metadata": {
        "id": "WciRUPaBmyrO"
      },
      "execution_count": null,
      "outputs": []
    },
    {
      "cell_type": "code",
      "source": [
        "# Load data\n",
        "data = pd.read_csv(\"mvb_pref.csv\")"
      ],
      "metadata": {
        "id": "4c9J-_qwpBXa"
      },
      "execution_count": null,
      "outputs": []
    },
    {
      "cell_type": "markdown",
      "source": [
        "## EDA"
      ],
      "metadata": {
        "id": "B--qeDh8dd-7"
      }
    },
    {
      "cell_type": "code",
      "source": [
        "data.head(10)"
      ],
      "metadata": {
        "colab": {
          "base_uri": "https://localhost:8080/",
          "height": 435
        },
        "id": "2J10USzxkmcz",
        "outputId": "571c683d-003c-4443-8a03-5e8572e40f1c"
      },
      "execution_count": null,
      "outputs": [
        {
          "output_type": "execute_result",
          "data": {
            "text/plain": [
              "   Age      Gender  Income Education_Level  Travel_Frequency  \\\n",
              "0   56        male   71477        bachelor                 9   \n",
              "1   69        male   88740          master                 1   \n",
              "2   46      female   46562          master                 0   \n",
              "3   32  non-binary   99044     high school                 6   \n",
              "4   60      female  106583     high school                 5   \n",
              "5   25        male  110588       doctorate                 3   \n",
              "6   38        male   22245        bachelor                 1   \n",
              "7   56  non-binary  109411        bachelor                 8   \n",
              "8   36        male   22531          master                 6   \n",
              "9   40  non-binary   90840     high school                 1   \n",
              "\n",
              "  Preferred_Activities  Vacation_Budget  Location  Proximity_to_Mountains  \\\n",
              "0               skiing             2477     urban                     175   \n",
              "1             swimming             4777  suburban                     228   \n",
              "2               skiing             1469     urban                      71   \n",
              "3               hiking             1482     rural                      31   \n",
              "4           sunbathing              516  suburban                      23   \n",
              "5           sunbathing             2895     urban                       6   \n",
              "6             swimming             4994     rural                     157   \n",
              "7           sunbathing             3656     urban                     210   \n",
              "8             swimming             2408  suburban                     218   \n",
              "9             swimming             4044     rural                     271   \n",
              "\n",
              "   Proximity_to_Beaches Favorite_Season  Pets  Environmental_Concerns  \\\n",
              "0                   267          summer     0                       1   \n",
              "1                   190            fall     0                       1   \n",
              "2                   280          winter     0                       0   \n",
              "3                   255          summer     1                       0   \n",
              "4                   151          winter     1                       1   \n",
              "5                    47            fall     0                       1   \n",
              "6                   225            fall     0                       1   \n",
              "7                   166          winter     1                       0   \n",
              "8                   263          summer     1                       1   \n",
              "9                    15          summer     1                       1   \n",
              "\n",
              "   Preference  \n",
              "0           1  \n",
              "1           0  \n",
              "2           1  \n",
              "3           1  \n",
              "4           0  \n",
              "5           0  \n",
              "6           0  \n",
              "7           0  \n",
              "8           0  \n",
              "9           0  "
            ],
            "text/html": [
              "\n",
              "  <div id=\"df-2c4040a5-f795-4e2f-94f5-e6740b7c0348\" class=\"colab-df-container\">\n",
              "    <div>\n",
              "<style scoped>\n",
              "    .dataframe tbody tr th:only-of-type {\n",
              "        vertical-align: middle;\n",
              "    }\n",
              "\n",
              "    .dataframe tbody tr th {\n",
              "        vertical-align: top;\n",
              "    }\n",
              "\n",
              "    .dataframe thead th {\n",
              "        text-align: right;\n",
              "    }\n",
              "</style>\n",
              "<table border=\"1\" class=\"dataframe\">\n",
              "  <thead>\n",
              "    <tr style=\"text-align: right;\">\n",
              "      <th></th>\n",
              "      <th>Age</th>\n",
              "      <th>Gender</th>\n",
              "      <th>Income</th>\n",
              "      <th>Education_Level</th>\n",
              "      <th>Travel_Frequency</th>\n",
              "      <th>Preferred_Activities</th>\n",
              "      <th>Vacation_Budget</th>\n",
              "      <th>Location</th>\n",
              "      <th>Proximity_to_Mountains</th>\n",
              "      <th>Proximity_to_Beaches</th>\n",
              "      <th>Favorite_Season</th>\n",
              "      <th>Pets</th>\n",
              "      <th>Environmental_Concerns</th>\n",
              "      <th>Preference</th>\n",
              "    </tr>\n",
              "  </thead>\n",
              "  <tbody>\n",
              "    <tr>\n",
              "      <th>0</th>\n",
              "      <td>56</td>\n",
              "      <td>male</td>\n",
              "      <td>71477</td>\n",
              "      <td>bachelor</td>\n",
              "      <td>9</td>\n",
              "      <td>skiing</td>\n",
              "      <td>2477</td>\n",
              "      <td>urban</td>\n",
              "      <td>175</td>\n",
              "      <td>267</td>\n",
              "      <td>summer</td>\n",
              "      <td>0</td>\n",
              "      <td>1</td>\n",
              "      <td>1</td>\n",
              "    </tr>\n",
              "    <tr>\n",
              "      <th>1</th>\n",
              "      <td>69</td>\n",
              "      <td>male</td>\n",
              "      <td>88740</td>\n",
              "      <td>master</td>\n",
              "      <td>1</td>\n",
              "      <td>swimming</td>\n",
              "      <td>4777</td>\n",
              "      <td>suburban</td>\n",
              "      <td>228</td>\n",
              "      <td>190</td>\n",
              "      <td>fall</td>\n",
              "      <td>0</td>\n",
              "      <td>1</td>\n",
              "      <td>0</td>\n",
              "    </tr>\n",
              "    <tr>\n",
              "      <th>2</th>\n",
              "      <td>46</td>\n",
              "      <td>female</td>\n",
              "      <td>46562</td>\n",
              "      <td>master</td>\n",
              "      <td>0</td>\n",
              "      <td>skiing</td>\n",
              "      <td>1469</td>\n",
              "      <td>urban</td>\n",
              "      <td>71</td>\n",
              "      <td>280</td>\n",
              "      <td>winter</td>\n",
              "      <td>0</td>\n",
              "      <td>0</td>\n",
              "      <td>1</td>\n",
              "    </tr>\n",
              "    <tr>\n",
              "      <th>3</th>\n",
              "      <td>32</td>\n",
              "      <td>non-binary</td>\n",
              "      <td>99044</td>\n",
              "      <td>high school</td>\n",
              "      <td>6</td>\n",
              "      <td>hiking</td>\n",
              "      <td>1482</td>\n",
              "      <td>rural</td>\n",
              "      <td>31</td>\n",
              "      <td>255</td>\n",
              "      <td>summer</td>\n",
              "      <td>1</td>\n",
              "      <td>0</td>\n",
              "      <td>1</td>\n",
              "    </tr>\n",
              "    <tr>\n",
              "      <th>4</th>\n",
              "      <td>60</td>\n",
              "      <td>female</td>\n",
              "      <td>106583</td>\n",
              "      <td>high school</td>\n",
              "      <td>5</td>\n",
              "      <td>sunbathing</td>\n",
              "      <td>516</td>\n",
              "      <td>suburban</td>\n",
              "      <td>23</td>\n",
              "      <td>151</td>\n",
              "      <td>winter</td>\n",
              "      <td>1</td>\n",
              "      <td>1</td>\n",
              "      <td>0</td>\n",
              "    </tr>\n",
              "    <tr>\n",
              "      <th>5</th>\n",
              "      <td>25</td>\n",
              "      <td>male</td>\n",
              "      <td>110588</td>\n",
              "      <td>doctorate</td>\n",
              "      <td>3</td>\n",
              "      <td>sunbathing</td>\n",
              "      <td>2895</td>\n",
              "      <td>urban</td>\n",
              "      <td>6</td>\n",
              "      <td>47</td>\n",
              "      <td>fall</td>\n",
              "      <td>0</td>\n",
              "      <td>1</td>\n",
              "      <td>0</td>\n",
              "    </tr>\n",
              "    <tr>\n",
              "      <th>6</th>\n",
              "      <td>38</td>\n",
              "      <td>male</td>\n",
              "      <td>22245</td>\n",
              "      <td>bachelor</td>\n",
              "      <td>1</td>\n",
              "      <td>swimming</td>\n",
              "      <td>4994</td>\n",
              "      <td>rural</td>\n",
              "      <td>157</td>\n",
              "      <td>225</td>\n",
              "      <td>fall</td>\n",
              "      <td>0</td>\n",
              "      <td>1</td>\n",
              "      <td>0</td>\n",
              "    </tr>\n",
              "    <tr>\n",
              "      <th>7</th>\n",
              "      <td>56</td>\n",
              "      <td>non-binary</td>\n",
              "      <td>109411</td>\n",
              "      <td>bachelor</td>\n",
              "      <td>8</td>\n",
              "      <td>sunbathing</td>\n",
              "      <td>3656</td>\n",
              "      <td>urban</td>\n",
              "      <td>210</td>\n",
              "      <td>166</td>\n",
              "      <td>winter</td>\n",
              "      <td>1</td>\n",
              "      <td>0</td>\n",
              "      <td>0</td>\n",
              "    </tr>\n",
              "    <tr>\n",
              "      <th>8</th>\n",
              "      <td>36</td>\n",
              "      <td>male</td>\n",
              "      <td>22531</td>\n",
              "      <td>master</td>\n",
              "      <td>6</td>\n",
              "      <td>swimming</td>\n",
              "      <td>2408</td>\n",
              "      <td>suburban</td>\n",
              "      <td>218</td>\n",
              "      <td>263</td>\n",
              "      <td>summer</td>\n",
              "      <td>1</td>\n",
              "      <td>1</td>\n",
              "      <td>0</td>\n",
              "    </tr>\n",
              "    <tr>\n",
              "      <th>9</th>\n",
              "      <td>40</td>\n",
              "      <td>non-binary</td>\n",
              "      <td>90840</td>\n",
              "      <td>high school</td>\n",
              "      <td>1</td>\n",
              "      <td>swimming</td>\n",
              "      <td>4044</td>\n",
              "      <td>rural</td>\n",
              "      <td>271</td>\n",
              "      <td>15</td>\n",
              "      <td>summer</td>\n",
              "      <td>1</td>\n",
              "      <td>1</td>\n",
              "      <td>0</td>\n",
              "    </tr>\n",
              "  </tbody>\n",
              "</table>\n",
              "</div>\n",
              "    <div class=\"colab-df-buttons\">\n",
              "\n",
              "  <div class=\"colab-df-container\">\n",
              "    <button class=\"colab-df-convert\" onclick=\"convertToInteractive('df-2c4040a5-f795-4e2f-94f5-e6740b7c0348')\"\n",
              "            title=\"Convert this dataframe to an interactive table.\"\n",
              "            style=\"display:none;\">\n",
              "\n",
              "  <svg xmlns=\"http://www.w3.org/2000/svg\" height=\"24px\" viewBox=\"0 -960 960 960\">\n",
              "    <path d=\"M120-120v-720h720v720H120Zm60-500h600v-160H180v160Zm220 220h160v-160H400v160Zm0 220h160v-160H400v160ZM180-400h160v-160H180v160Zm440 0h160v-160H620v160ZM180-180h160v-160H180v160Zm440 0h160v-160H620v160Z\"/>\n",
              "  </svg>\n",
              "    </button>\n",
              "\n",
              "  <style>\n",
              "    .colab-df-container {\n",
              "      display:flex;\n",
              "      gap: 12px;\n",
              "    }\n",
              "\n",
              "    .colab-df-convert {\n",
              "      background-color: #E8F0FE;\n",
              "      border: none;\n",
              "      border-radius: 50%;\n",
              "      cursor: pointer;\n",
              "      display: none;\n",
              "      fill: #1967D2;\n",
              "      height: 32px;\n",
              "      padding: 0 0 0 0;\n",
              "      width: 32px;\n",
              "    }\n",
              "\n",
              "    .colab-df-convert:hover {\n",
              "      background-color: #E2EBFA;\n",
              "      box-shadow: 0px 1px 2px rgba(60, 64, 67, 0.3), 0px 1px 3px 1px rgba(60, 64, 67, 0.15);\n",
              "      fill: #174EA6;\n",
              "    }\n",
              "\n",
              "    .colab-df-buttons div {\n",
              "      margin-bottom: 4px;\n",
              "    }\n",
              "\n",
              "    [theme=dark] .colab-df-convert {\n",
              "      background-color: #3B4455;\n",
              "      fill: #D2E3FC;\n",
              "    }\n",
              "\n",
              "    [theme=dark] .colab-df-convert:hover {\n",
              "      background-color: #434B5C;\n",
              "      box-shadow: 0px 1px 3px 1px rgba(0, 0, 0, 0.15);\n",
              "      filter: drop-shadow(0px 1px 2px rgba(0, 0, 0, 0.3));\n",
              "      fill: #FFFFFF;\n",
              "    }\n",
              "  </style>\n",
              "\n",
              "    <script>\n",
              "      const buttonEl =\n",
              "        document.querySelector('#df-2c4040a5-f795-4e2f-94f5-e6740b7c0348 button.colab-df-convert');\n",
              "      buttonEl.style.display =\n",
              "        google.colab.kernel.accessAllowed ? 'block' : 'none';\n",
              "\n",
              "      async function convertToInteractive(key) {\n",
              "        const element = document.querySelector('#df-2c4040a5-f795-4e2f-94f5-e6740b7c0348');\n",
              "        const dataTable =\n",
              "          await google.colab.kernel.invokeFunction('convertToInteractive',\n",
              "                                                    [key], {});\n",
              "        if (!dataTable) return;\n",
              "\n",
              "        const docLinkHtml = 'Like what you see? Visit the ' +\n",
              "          '<a target=\"_blank\" href=https://colab.research.google.com/notebooks/data_table.ipynb>data table notebook</a>'\n",
              "          + ' to learn more about interactive tables.';\n",
              "        element.innerHTML = '';\n",
              "        dataTable['output_type'] = 'display_data';\n",
              "        await google.colab.output.renderOutput(dataTable, element);\n",
              "        const docLink = document.createElement('div');\n",
              "        docLink.innerHTML = docLinkHtml;\n",
              "        element.appendChild(docLink);\n",
              "      }\n",
              "    </script>\n",
              "  </div>\n",
              "\n",
              "\n",
              "<div id=\"df-9af7e257-715a-47ff-8b09-c52f03e2a147\">\n",
              "  <button class=\"colab-df-quickchart\" onclick=\"quickchart('df-9af7e257-715a-47ff-8b09-c52f03e2a147')\"\n",
              "            title=\"Suggest charts\"\n",
              "            style=\"display:none;\">\n",
              "\n",
              "<svg xmlns=\"http://www.w3.org/2000/svg\" height=\"24px\"viewBox=\"0 0 24 24\"\n",
              "     width=\"24px\">\n",
              "    <g>\n",
              "        <path d=\"M19 3H5c-1.1 0-2 .9-2 2v14c0 1.1.9 2 2 2h14c1.1 0 2-.9 2-2V5c0-1.1-.9-2-2-2zM9 17H7v-7h2v7zm4 0h-2V7h2v10zm4 0h-2v-4h2v4z\"/>\n",
              "    </g>\n",
              "</svg>\n",
              "  </button>\n",
              "\n",
              "<style>\n",
              "  .colab-df-quickchart {\n",
              "      --bg-color: #E8F0FE;\n",
              "      --fill-color: #1967D2;\n",
              "      --hover-bg-color: #E2EBFA;\n",
              "      --hover-fill-color: #174EA6;\n",
              "      --disabled-fill-color: #AAA;\n",
              "      --disabled-bg-color: #DDD;\n",
              "  }\n",
              "\n",
              "  [theme=dark] .colab-df-quickchart {\n",
              "      --bg-color: #3B4455;\n",
              "      --fill-color: #D2E3FC;\n",
              "      --hover-bg-color: #434B5C;\n",
              "      --hover-fill-color: #FFFFFF;\n",
              "      --disabled-bg-color: #3B4455;\n",
              "      --disabled-fill-color: #666;\n",
              "  }\n",
              "\n",
              "  .colab-df-quickchart {\n",
              "    background-color: var(--bg-color);\n",
              "    border: none;\n",
              "    border-radius: 50%;\n",
              "    cursor: pointer;\n",
              "    display: none;\n",
              "    fill: var(--fill-color);\n",
              "    height: 32px;\n",
              "    padding: 0;\n",
              "    width: 32px;\n",
              "  }\n",
              "\n",
              "  .colab-df-quickchart:hover {\n",
              "    background-color: var(--hover-bg-color);\n",
              "    box-shadow: 0 1px 2px rgba(60, 64, 67, 0.3), 0 1px 3px 1px rgba(60, 64, 67, 0.15);\n",
              "    fill: var(--button-hover-fill-color);\n",
              "  }\n",
              "\n",
              "  .colab-df-quickchart-complete:disabled,\n",
              "  .colab-df-quickchart-complete:disabled:hover {\n",
              "    background-color: var(--disabled-bg-color);\n",
              "    fill: var(--disabled-fill-color);\n",
              "    box-shadow: none;\n",
              "  }\n",
              "\n",
              "  .colab-df-spinner {\n",
              "    border: 2px solid var(--fill-color);\n",
              "    border-color: transparent;\n",
              "    border-bottom-color: var(--fill-color);\n",
              "    animation:\n",
              "      spin 1s steps(1) infinite;\n",
              "  }\n",
              "\n",
              "  @keyframes spin {\n",
              "    0% {\n",
              "      border-color: transparent;\n",
              "      border-bottom-color: var(--fill-color);\n",
              "      border-left-color: var(--fill-color);\n",
              "    }\n",
              "    20% {\n",
              "      border-color: transparent;\n",
              "      border-left-color: var(--fill-color);\n",
              "      border-top-color: var(--fill-color);\n",
              "    }\n",
              "    30% {\n",
              "      border-color: transparent;\n",
              "      border-left-color: var(--fill-color);\n",
              "      border-top-color: var(--fill-color);\n",
              "      border-right-color: var(--fill-color);\n",
              "    }\n",
              "    40% {\n",
              "      border-color: transparent;\n",
              "      border-right-color: var(--fill-color);\n",
              "      border-top-color: var(--fill-color);\n",
              "    }\n",
              "    60% {\n",
              "      border-color: transparent;\n",
              "      border-right-color: var(--fill-color);\n",
              "    }\n",
              "    80% {\n",
              "      border-color: transparent;\n",
              "      border-right-color: var(--fill-color);\n",
              "      border-bottom-color: var(--fill-color);\n",
              "    }\n",
              "    90% {\n",
              "      border-color: transparent;\n",
              "      border-bottom-color: var(--fill-color);\n",
              "    }\n",
              "  }\n",
              "</style>\n",
              "\n",
              "  <script>\n",
              "    async function quickchart(key) {\n",
              "      const quickchartButtonEl =\n",
              "        document.querySelector('#' + key + ' button');\n",
              "      quickchartButtonEl.disabled = true;  // To prevent multiple clicks.\n",
              "      quickchartButtonEl.classList.add('colab-df-spinner');\n",
              "      try {\n",
              "        const charts = await google.colab.kernel.invokeFunction(\n",
              "            'suggestCharts', [key], {});\n",
              "      } catch (error) {\n",
              "        console.error('Error during call to suggestCharts:', error);\n",
              "      }\n",
              "      quickchartButtonEl.classList.remove('colab-df-spinner');\n",
              "      quickchartButtonEl.classList.add('colab-df-quickchart-complete');\n",
              "    }\n",
              "    (() => {\n",
              "      let quickchartButtonEl =\n",
              "        document.querySelector('#df-9af7e257-715a-47ff-8b09-c52f03e2a147 button');\n",
              "      quickchartButtonEl.style.display =\n",
              "        google.colab.kernel.accessAllowed ? 'block' : 'none';\n",
              "    })();\n",
              "  </script>\n",
              "</div>\n",
              "\n",
              "    </div>\n",
              "  </div>\n"
            ],
            "application/vnd.google.colaboratory.intrinsic+json": {
              "type": "dataframe",
              "variable_name": "data",
              "summary": "{\n  \"name\": \"data\",\n  \"rows\": 52444,\n  \"fields\": [\n    {\n      \"column\": \"Age\",\n      \"properties\": {\n        \"dtype\": \"number\",\n        \"std\": 14,\n        \"min\": 18,\n        \"max\": 69,\n        \"num_unique_values\": 52,\n        \"samples\": [\n          50,\n          51,\n          18\n        ],\n        \"semantic_type\": \"\",\n        \"description\": \"\"\n      }\n    },\n    {\n      \"column\": \"Gender\",\n      \"properties\": {\n        \"dtype\": \"category\",\n        \"num_unique_values\": 3,\n        \"samples\": [\n          \"male\",\n          \"female\",\n          \"non-binary\"\n        ],\n        \"semantic_type\": \"\",\n        \"description\": \"\"\n      }\n    },\n    {\n      \"column\": \"Income\",\n      \"properties\": {\n        \"dtype\": \"number\",\n        \"std\": 28847,\n        \"min\": 20001,\n        \"max\": 119999,\n        \"num_unique_values\": 40983,\n        \"samples\": [\n          82041,\n          67365,\n          23353\n        ],\n        \"semantic_type\": \"\",\n        \"description\": \"\"\n      }\n    },\n    {\n      \"column\": \"Education_Level\",\n      \"properties\": {\n        \"dtype\": \"category\",\n        \"num_unique_values\": 4,\n        \"samples\": [\n          \"master\",\n          \"doctorate\",\n          \"bachelor\"\n        ],\n        \"semantic_type\": \"\",\n        \"description\": \"\"\n      }\n    },\n    {\n      \"column\": \"Travel_Frequency\",\n      \"properties\": {\n        \"dtype\": \"number\",\n        \"std\": 2,\n        \"min\": 0,\n        \"max\": 9,\n        \"num_unique_values\": 10,\n        \"samples\": [\n          7,\n          1,\n          3\n        ],\n        \"semantic_type\": \"\",\n        \"description\": \"\"\n      }\n    },\n    {\n      \"column\": \"Preferred_Activities\",\n      \"properties\": {\n        \"dtype\": \"category\",\n        \"num_unique_values\": 4,\n        \"samples\": [\n          \"swimming\",\n          \"sunbathing\",\n          \"skiing\"\n        ],\n        \"semantic_type\": \"\",\n        \"description\": \"\"\n      }\n    },\n    {\n      \"column\": \"Vacation_Budget\",\n      \"properties\": {\n        \"dtype\": \"number\",\n        \"std\": 1296,\n        \"min\": 500,\n        \"max\": 4999,\n        \"num_unique_values\": 4500,\n        \"samples\": [\n          3249,\n          3422,\n          3174\n        ],\n        \"semantic_type\": \"\",\n        \"description\": \"\"\n      }\n    },\n    {\n      \"column\": \"Location\",\n      \"properties\": {\n        \"dtype\": \"category\",\n        \"num_unique_values\": 3,\n        \"samples\": [\n          \"urban\",\n          \"suburban\",\n          \"rural\"\n        ],\n        \"semantic_type\": \"\",\n        \"description\": \"\"\n      }\n    },\n    {\n      \"column\": \"Proximity_to_Mountains\",\n      \"properties\": {\n        \"dtype\": \"number\",\n        \"std\": 86,\n        \"min\": 0,\n        \"max\": 299,\n        \"num_unique_values\": 300,\n        \"samples\": [\n          58,\n          272,\n          148\n        ],\n        \"semantic_type\": \"\",\n        \"description\": \"\"\n      }\n    },\n    {\n      \"column\": \"Proximity_to_Beaches\",\n      \"properties\": {\n        \"dtype\": \"number\",\n        \"std\": 86,\n        \"min\": 0,\n        \"max\": 299,\n        \"num_unique_values\": 300,\n        \"samples\": [\n          123,\n          87,\n          145\n        ],\n        \"semantic_type\": \"\",\n        \"description\": \"\"\n      }\n    },\n    {\n      \"column\": \"Favorite_Season\",\n      \"properties\": {\n        \"dtype\": \"category\",\n        \"num_unique_values\": 4,\n        \"samples\": [\n          \"fall\",\n          \"spring\",\n          \"summer\"\n        ],\n        \"semantic_type\": \"\",\n        \"description\": \"\"\n      }\n    },\n    {\n      \"column\": \"Pets\",\n      \"properties\": {\n        \"dtype\": \"number\",\n        \"std\": 0,\n        \"min\": 0,\n        \"max\": 1,\n        \"num_unique_values\": 2,\n        \"samples\": [\n          1,\n          0\n        ],\n        \"semantic_type\": \"\",\n        \"description\": \"\"\n      }\n    },\n    {\n      \"column\": \"Environmental_Concerns\",\n      \"properties\": {\n        \"dtype\": \"number\",\n        \"std\": 0,\n        \"min\": 0,\n        \"max\": 1,\n        \"num_unique_values\": 2,\n        \"samples\": [\n          0,\n          1\n        ],\n        \"semantic_type\": \"\",\n        \"description\": \"\"\n      }\n    },\n    {\n      \"column\": \"Preference\",\n      \"properties\": {\n        \"dtype\": \"number\",\n        \"std\": 0,\n        \"min\": 0,\n        \"max\": 1,\n        \"num_unique_values\": 2,\n        \"samples\": [\n          0,\n          1\n        ],\n        \"semantic_type\": \"\",\n        \"description\": \"\"\n      }\n    }\n  ]\n}"
            }
          },
          "metadata": {},
          "execution_count": 6
        }
      ]
    },
    {
      "cell_type": "code",
      "source": [
        "print(\"Total Sample:\", len(data))"
      ],
      "metadata": {
        "colab": {
          "base_uri": "https://localhost:8080/"
        },
        "id": "fvbO7O6Jlk9s",
        "outputId": "dfaa03c8-0c95-42f3-f206-4608f2b2e5f9"
      },
      "execution_count": null,
      "outputs": [
        {
          "output_type": "stream",
          "name": "stdout",
          "text": [
            "Total Sample: 52444\n"
          ]
        }
      ]
    },
    {
      "cell_type": "code",
      "source": [
        "print(\"\\nUkuran Dataset:\")\n",
        "print(data.shape)"
      ],
      "metadata": {
        "colab": {
          "base_uri": "https://localhost:8080/"
        },
        "id": "WLsEV-RBpUyf",
        "outputId": "72f39dbe-a529-4167-a2ee-77c7bac9cef3"
      },
      "execution_count": null,
      "outputs": [
        {
          "output_type": "stream",
          "name": "stdout",
          "text": [
            "\n",
            "Ukuran Dataset:\n",
            "(52444, 14)\n"
          ]
        }
      ]
    },
    {
      "cell_type": "code",
      "source": [
        "print(\"\\nCek Missing Value:\")\n",
        "print(data.isnull().sum())"
      ],
      "metadata": {
        "colab": {
          "base_uri": "https://localhost:8080/"
        },
        "id": "_GKVJb9JpR93",
        "outputId": "1d7c2171-246f-4f3b-86f7-364711ed041c"
      },
      "execution_count": null,
      "outputs": [
        {
          "output_type": "stream",
          "name": "stdout",
          "text": [
            "\n",
            "Cek Missing Value:\n",
            "Age                       0\n",
            "Gender                    0\n",
            "Income                    0\n",
            "Education_Level           0\n",
            "Travel_Frequency          0\n",
            "Preferred_Activities      0\n",
            "Vacation_Budget           0\n",
            "Location                  0\n",
            "Proximity_to_Mountains    0\n",
            "Proximity_to_Beaches      0\n",
            "Favorite_Season           0\n",
            "Pets                      0\n",
            "Environmental_Concerns    0\n",
            "Preference                0\n",
            "dtype: int64\n"
          ]
        }
      ]
    },
    {
      "cell_type": "code",
      "source": [
        "duplicate_rows = data[data.duplicated()]\n",
        "num_duplicate_rows = len(duplicate_rows)\n",
        "print(f\"\\nJumlah Data Duplikat: {num_duplicate_rows}\")\n"
      ],
      "metadata": {
        "colab": {
          "base_uri": "https://localhost:8080/"
        },
        "id": "9X6SF8xdmL2t",
        "outputId": "5f94e09f-c410-4b9d-995c-bd854edd90b1"
      },
      "execution_count": null,
      "outputs": [
        {
          "output_type": "stream",
          "name": "stdout",
          "text": [
            "\n",
            "Jumlah Data Duplikat: 0\n"
          ]
        }
      ]
    },
    {
      "cell_type": "code",
      "source": [
        "print(\"Statistik Deskriptif:\")\n",
        "print(data.describe())"
      ],
      "metadata": {
        "colab": {
          "base_uri": "https://localhost:8080/"
        },
        "id": "rwgIdoMRj-vK",
        "outputId": "9ab62a9d-7712-4fb5-fcc7-92f8df8bdb13"
      },
      "execution_count": null,
      "outputs": [
        {
          "output_type": "stream",
          "name": "stdout",
          "text": [
            "Statistik Deskriptif:\n",
            "                Age         Income  Travel_Frequency  Vacation_Budget  \\\n",
            "count  52444.000000   52444.000000      52444.000000     52444.000000   \n",
            "mean      43.507360   70017.271280          4.489265      2741.799062   \n",
            "std       14.985597   28847.560428          2.876130      1296.922423   \n",
            "min       18.000000   20001.000000          0.000000       500.000000   \n",
            "25%       31.000000   45048.250000          2.000000      1622.000000   \n",
            "50%       43.000000   70167.000000          4.000000      2733.000000   \n",
            "75%       56.000000   95108.500000          7.000000      3869.000000   \n",
            "max       69.000000  119999.000000          9.000000      4999.000000   \n",
            "\n",
            "       Proximity_to_Mountains  Proximity_to_Beaches          Pets  \\\n",
            "count            52444.000000          52444.000000  52444.000000   \n",
            "mean               149.943502            149.888452      0.500858   \n",
            "std                 86.548644             86.469248      0.500004   \n",
            "min                  0.000000              0.000000      0.000000   \n",
            "25%                 75.000000             75.750000      0.000000   \n",
            "50%                150.000000            150.000000      1.000000   \n",
            "75%                225.000000            225.000000      1.000000   \n",
            "max                299.000000            299.000000      1.000000   \n",
            "\n",
            "       Environmental_Concerns    Preference  \n",
            "count            52444.000000  52444.000000  \n",
            "mean                 0.498436      0.250706  \n",
            "std                  0.500002      0.433423  \n",
            "min                  0.000000      0.000000  \n",
            "25%                  0.000000      0.000000  \n",
            "50%                  0.000000      0.000000  \n",
            "75%                  1.000000      1.000000  \n",
            "max                  1.000000      1.000000  \n"
          ]
        }
      ]
    },
    {
      "cell_type": "code",
      "source": [
        "print(\"Distribusi Preferensi:\")\n",
        "print(data['Preference'].value_counts())"
      ],
      "metadata": {
        "colab": {
          "base_uri": "https://localhost:8080/"
        },
        "id": "P4zNgmzOpQLC",
        "outputId": "927e2457-eb9b-4622-f530-081a437e29d7"
      },
      "execution_count": null,
      "outputs": [
        {
          "output_type": "stream",
          "name": "stdout",
          "text": [
            "Distribusi Preferensi:\n",
            "Preference\n",
            "0    39296\n",
            "1    13148\n",
            "Name: count, dtype: int64\n"
          ]
        }
      ]
    },
    {
      "cell_type": "code",
      "source": [
        "plt.figure(figsize=(5, 5))\n",
        "preference_counts = data['Preference'].value_counts()\n",
        "plt.pie(preference_counts, labels=preference_counts.index, autopct='%1.1f%%', startangle=90)\n",
        "plt.title('Distribusi Preferensi')\n",
        "plt.axis('equal')\n",
        "plt.show()"
      ],
      "metadata": {
        "colab": {
          "base_uri": "https://localhost:8080/",
          "height": 444
        },
        "id": "9qV_etImk-Ws",
        "outputId": "959eb049-6307-4e32-f356-1d38abcb5621"
      },
      "execution_count": null,
      "outputs": [
        {
          "output_type": "display_data",
          "data": {
            "text/plain": [
              "<Figure size 500x500 with 1 Axes>"
            ],
            "image/png": "[encoded data removed]"
          },
          "metadata": {}
        }
      ]
    },
    {
      "cell_type": "code",
      "source": [
        "plt.figure(figsize=(8, 6))\n",
        "plt.hist(data['Age'], bins=10, edgecolor='black')\n",
        "plt.xlabel('Age')\n",
        "plt.ylabel('Frequency')\n",
        "plt.title('Histogram Age')\n",
        "plt.show()"
      ],
      "metadata": {
        "colab": {
          "base_uri": "https://localhost:8080/",
          "height": 564
        },
        "id": "F8m6czPRmq7d",
        "outputId": "e2551221-47c4-494e-b760-c34ca6d5ebf8"
      },
      "execution_count": null,
      "outputs": [
        {
          "output_type": "display_data",
          "data": {
            "text/plain": [
              "<Figure size 800x600 with 1 Axes>"
            ],
            "image/png": "[encoded data removed]"
          },
          "metadata": {}
        }
      ]
    },
    {
      "cell_type": "markdown",
      "source": [
        "## Pre-processing"
      ],
      "metadata": {
        "id": "58_8puRKdg8_"
      }
    },
    {
      "cell_type": "code",
      "source": [
        "\n",
        "for col in data.columns:\n",
        "    # Check if the column's data type is not numeric\n",
        "    if not pd.api.types.is_numeric_dtype(data[col]):\n",
        "        # Print the column name and its unique values\n",
        "        print(f\"Unique values for column '{col}':\")\n",
        "        print(data[col].unique())\n",
        "        print(\"-\" * 20)"
      ],
      "metadata": {
        "colab": {
          "base_uri": "https://localhost:8080/"
        },
        "id": "zZMNAhVu4MAS",
        "outputId": "942e441e-1ac3-4e11-d752-ad66ce0a0192"
      },
      "execution_count": null,
      "outputs": [
        {
          "output_type": "stream",
          "name": "stdout",
          "text": [
            "Unique values for column 'Gender':\n",
            "['male' 'female' 'non-binary']\n",
            "--------------------\n",
            "Unique values for column 'Education_Level':\n",
            "['bachelor' 'master' 'high school' 'doctorate']\n",
            "--------------------\n",
            "Unique values for column 'Preferred_Activities':\n",
            "['skiing' 'swimming' 'hiking' 'sunbathing']\n",
            "--------------------\n",
            "Unique values for column 'Location':\n",
            "['urban' 'suburban' 'rural']\n",
            "--------------------\n",
            "Unique values for column 'Favorite_Season':\n",
            "['summer' 'fall' 'winter' 'spring']\n",
            "--------------------\n"
          ]
        }
      ]
    },
    {
      "cell_type": "code",
      "source": [
        "# Encoding Fitur Gender\n",
        "gender_mapping = {'male': 0, 'female': 1, 'non-binary': 2}\n",
        "data['Gender'] = data['Gender'].map(gender_mapping)"
      ],
      "metadata": {
        "id": "scfClT1z5dfL"
      },
      "execution_count": null,
      "outputs": []
    },
    {
      "cell_type": "code",
      "source": [
        "# Encoding Fitur Education Level\n",
        "EL_mapping = {'bachelor': 0, 'master': 1, 'high school': 2, 'doctorate': 3}\n",
        "data['Education_Level'] = data['Education_Level'].map(EL_mapping)"
      ],
      "metadata": {
        "id": "g8VnNfnJ55es"
      },
      "execution_count": null,
      "outputs": []
    },
    {
      "cell_type": "code",
      "source": [
        "# Encoding Fitur Activities\n",
        "act_mapping = {'skiing': 0, 'swimming': 1, 'hiking': 2, 'sunbathing': 3}\n",
        "data['Preferred_Activities'] = data['Preferred_Activities'].map(act_mapping)"
      ],
      "metadata": {
        "id": "_VH8GhCH6HzA"
      },
      "execution_count": null,
      "outputs": []
    },
    {
      "cell_type": "code",
      "source": [
        "# Encoding Fitur Location\n",
        "loc_mapping = {'urban': 0, 'suburban': 1, 'rural': 2}\n",
        "data['Location'] = data['Location'].map(loc_mapping)"
      ],
      "metadata": {
        "id": "Bo8Esshl6JZd"
      },
      "execution_count": null,
      "outputs": []
    },
    {
      "cell_type": "code",
      "source": [
        "# Encoding Fitur Favorite Season\n",
        "fav_season_mapping = {'summer': 0, 'fall': 1, 'winter': 2, 'spring': 3}\n",
        "data['Favorite_Season'] = data['Favorite_Season'].map(fav_season_mapping)"
      ],
      "metadata": {
        "id": "9nIv1BJ16JZe"
      },
      "execution_count": null,
      "outputs": []
    },
    {
      "cell_type": "code",
      "source": [
        "data = data.dropna()"
      ],
      "metadata": {
        "id": "_GtZ38B9rFvA"
      },
      "execution_count": null,
      "outputs": []
    },
    {
      "cell_type": "code",
      "source": [
        "# Pisahkan fitur dan target\n",
        "X = data.drop('Preference', axis=1)\n",
        "y = data['Preference']\n",
        "\n",
        "# StandardScaler untuk semua fitur\n",
        "scaler = StandardScaler()\n",
        "X_scaled = scaler.fit_transform(X)\n",
        "\n",
        "# Simpan scaler untuk digunakan di web\n",
        "joblib.dump(scaler, 'scaler.pkl')\n",
        "print(\"Scaler saved as 'scaler.pkl'\")"
      ],
      "metadata": {
        "colab": {
          "base_uri": "https://localhost:8080/"
        },
        "id": "PikjHatSoGk_",
        "outputId": "c707f6b8-1408-4af7-a34e-1a2bec586a22"
      },
      "execution_count": null,
      "outputs": [
        {
          "output_type": "stream",
          "name": "stdout",
          "text": [
            "Scaler saved as 'scaler.pkl'\n"
          ]
        }
      ]
    },
    {
      "cell_type": "code",
      "source": [
        "numerical_cols = data.select_dtypes(include=['int64', 'float64']).columns\n",
        "scaler = StandardScaler()\n",
        "data[numerical_cols] = scaler.fit_transform(data[numerical_cols])"
      ],
      "metadata": {
        "id": "qVdcFUWJrlkg"
      },
      "execution_count": null,
      "outputs": []
    },
    {
      "cell_type": "code",
      "source": [
        "joblib.dump(scaler, 'scaler.pkl')\n",
        "print(\"Scaler saved as 'scaler.pkl'\")"
      ],
      "metadata": {
        "colab": {
          "base_uri": "https://localhost:8080/"
        },
        "id": "8ud_g2HDBIAy",
        "outputId": "8747894e-5412-4562-9a75-bdd5f0afb867"
      },
      "execution_count": null,
      "outputs": [
        {
          "output_type": "stream",
          "name": "stdout",
          "text": [
            "Scaler saved as 'scaler.pkl'\n"
          ]
        }
      ]
    },
    {
      "cell_type": "code",
      "source": [
        "data.head()"
      ],
      "metadata": {
        "colab": {
          "base_uri": "https://localhost:8080/",
          "height": 226
        },
        "id": "MqwX5iAFntdX",
        "outputId": "ff08ef5b-428f-44c7-cef2-a89b53985c1c"
      },
      "execution_count": null,
      "outputs": [
        {
          "output_type": "execute_result",
          "data": {
            "text/plain": [
              "        Age    Gender    Income  Education_Level  Travel_Frequency  \\\n",
              "0  0.833651 -1.221947  0.050602        -1.342879          1.568350   \n",
              "1  1.701159 -1.221947  0.649029        -0.451129         -1.213192   \n",
              "2  0.166337  0.005571 -0.813084        -0.451129         -1.560885   \n",
              "3 -0.767902  1.233088  1.006220         0.440621          0.525272   \n",
              "4  1.100577  0.005571  1.267562         0.440621          0.177579   \n",
              "\n",
              "   Preferred_Activities  Vacation_Budget  Location  Proximity_to_Mountains  \\\n",
              "0             -1.340898        -0.204177 -1.224868                0.289510   \n",
              "1             -0.448724         1.569269  0.000257                0.901889   \n",
              "2             -1.340898        -0.981409 -1.224868               -0.912137   \n",
              "3              0.443450        -0.971385  1.225382               -1.374310   \n",
              "4              1.335624        -1.716232  0.000257               -1.466744   \n",
              "\n",
              "   Proximity_to_Beaches  Favorite_Season      Pets  Environmental_Concerns  \\\n",
              "0              1.354385        -1.330774 -1.001718                1.003132   \n",
              "1              0.463887        -0.436750 -1.001718                1.003132   \n",
              "2              1.504729         0.457275 -1.001718               -0.996878   \n",
              "3              1.215606        -1.330774  0.998285               -0.996878   \n",
              "4              0.012855         0.457275  0.998285                1.003132   \n",
              "\n",
              "   Preference  \n",
              "0    1.728798  \n",
              "1   -0.578436  \n",
              "2    1.728798  \n",
              "3    1.728798  \n",
              "4   -0.578436  "
            ],
            "text/html": [
              "\n",
              "  <div id=\"df-7eb33979-538c-45c8-9fef-81eb5564de8d\" class=\"colab-df-container\">\n",
              "    <div>\n",
              "<style scoped>\n",
              "    .dataframe tbody tr th:only-of-type {\n",
              "        vertical-align: middle;\n",
              "    }\n",
              "\n",
              "    .dataframe tbody tr th {\n",
              "        vertical-align: top;\n",
              "    }\n",
              "\n",
              "    .dataframe thead th {\n",
              "        text-align: right;\n",
              "    }\n",
              "</style>\n",
              "<table border=\"1\" class=\"dataframe\">\n",
              "  <thead>\n",
              "    <tr style=\"text-align: right;\">\n",
              "      <th></th>\n",
              "      <th>Age</th>\n",
              "      <th>Gender</th>\n",
              "      <th>Income</th>\n",
              "      <th>Education_Level</th>\n",
              "      <th>Travel_Frequency</th>\n",
              "      <th>Preferred_Activities</th>\n",
              "      <th>Vacation_Budget</th>\n",
              "      <th>Location</th>\n",
              "      <th>Proximity_to_Mountains</th>\n",
              "      <th>Proximity_to_Beaches</th>\n",
              "      <th>Favorite_Season</th>\n",
              "      <th>Pets</th>\n",
              "      <th>Environmental_Concerns</th>\n",
              "      <th>Preference</th>\n",
              "    </tr>\n",
              "  </thead>\n",
              "  <tbody>\n",
              "    <tr>\n",
              "      <th>0</th>\n",
              "      <td>0.833651</td>\n",
              "      <td>-1.221947</td>\n",
              "      <td>0.050602</td>\n",
              "      <td>-1.342879</td>\n",
              "      <td>1.568350</td>\n",
              "      <td>-1.340898</td>\n",
              "      <td>-0.204177</td>\n",
              "      <td>-1.224868</td>\n",
              "      <td>0.289510</td>\n",
              "      <td>1.354385</td>\n",
              "      <td>-1.330774</td>\n",
              "      <td>-1.001718</td>\n",
              "      <td>1.003132</td>\n",
              "      <td>1.728798</td>\n",
              "    </tr>\n",
              "    <tr>\n",
              "      <th>1</th>\n",
              "      <td>1.701159</td>\n",
              "      <td>-1.221947</td>\n",
              "      <td>0.649029</td>\n",
              "      <td>-0.451129</td>\n",
              "      <td>-1.213192</td>\n",
              "      <td>-0.448724</td>\n",
              "      <td>1.569269</td>\n",
              "      <td>0.000257</td>\n",
              "      <td>0.901889</td>\n",
              "      <td>0.463887</td>\n",
              "      <td>-0.436750</td>\n",
              "      <td>-1.001718</td>\n",
              "      <td>1.003132</td>\n",
              "      <td>-0.578436</td>\n",
              "    </tr>\n",
              "    <tr>\n",
              "      <th>2</th>\n",
              "      <td>0.166337</td>\n",
              "      <td>0.005571</td>\n",
              "      <td>-0.813084</td>\n",
              "      <td>-0.451129</td>\n",
              "      <td>-1.560885</td>\n",
              "      <td>-1.340898</td>\n",
              "      <td>-0.981409</td>\n",
              "      <td>-1.224868</td>\n",
              "      <td>-0.912137</td>\n",
              "      <td>1.504729</td>\n",
              "      <td>0.457275</td>\n",
              "      <td>-1.001718</td>\n",
              "      <td>-0.996878</td>\n",
              "      <td>1.728798</td>\n",
              "    </tr>\n",
              "    <tr>\n",
              "      <th>3</th>\n",
              "      <td>-0.767902</td>\n",
              "      <td>1.233088</td>\n",
              "      <td>1.006220</td>\n",
              "      <td>0.440621</td>\n",
              "      <td>0.525272</td>\n",
              "      <td>0.443450</td>\n",
              "      <td>-0.971385</td>\n",
              "      <td>1.225382</td>\n",
              "      <td>-1.374310</td>\n",
              "      <td>1.215606</td>\n",
              "      <td>-1.330774</td>\n",
              "      <td>0.998285</td>\n",
              "      <td>-0.996878</td>\n",
              "      <td>1.728798</td>\n",
              "    </tr>\n",
              "    <tr>\n",
              "      <th>4</th>\n",
              "      <td>1.100577</td>\n",
              "      <td>0.005571</td>\n",
              "      <td>1.267562</td>\n",
              "      <td>0.440621</td>\n",
              "      <td>0.177579</td>\n",
              "      <td>1.335624</td>\n",
              "      <td>-1.716232</td>\n",
              "      <td>0.000257</td>\n",
              "      <td>-1.466744</td>\n",
              "      <td>0.012855</td>\n",
              "      <td>0.457275</td>\n",
              "      <td>0.998285</td>\n",
              "      <td>1.003132</td>\n",
              "      <td>-0.578436</td>\n",
              "    </tr>\n",
              "  </tbody>\n",
              "</table>\n",
              "</div>\n",
              "    <div class=\"colab-df-buttons\">\n",
              "\n",
              "  <div class=\"colab-df-container\">\n",
              "    <button class=\"colab-df-convert\" onclick=\"convertToInteractive('df-7eb33979-538c-45c8-9fef-81eb5564de8d')\"\n",
              "            title=\"Convert this dataframe to an interactive table.\"\n",
              "            style=\"display:none;\">\n",
              "\n",
              "  <svg xmlns=\"http://www.w3.org/2000/svg\" height=\"24px\" viewBox=\"0 -960 960 960\">\n",
              "    <path d=\"M120-120v-720h720v720H120Zm60-500h600v-160H180v160Zm220 220h160v-160H400v160Zm0 220h160v-160H400v160ZM180-400h160v-160H180v160Zm440 0h160v-160H620v160ZM180-180h160v-160H180v160Zm440 0h160v-160H620v160Z\"/>\n",
              "  </svg>\n",
              "    </button>\n",
              "\n",
              "  <style>\n",
              "    .colab-df-container {\n",
              "      display:flex;\n",
              "      gap: 12px;\n",
              "    }\n",
              "\n",
              "    .colab-df-convert {\n",
              "      background-color: #E8F0FE;\n",
              "      border: none;\n",
              "      border-radius: 50%;\n",
              "      cursor: pointer;\n",
              "      display: none;\n",
              "      fill: #1967D2;\n",
              "      height: 32px;\n",
              "      padding: 0 0 0 0;\n",
              "      width: 32px;\n",
              "    }\n",
              "\n",
              "    .colab-df-convert:hover {\n",
              "      background-color: #E2EBFA;\n",
              "      box-shadow: 0px 1px 2px rgba(60, 64, 67, 0.3), 0px 1px 3px 1px rgba(60, 64, 67, 0.15);\n",
              "      fill: #174EA6;\n",
              "    }\n",
              "\n",
              "    .colab-df-buttons div {\n",
              "      margin-bottom: 4px;\n",
              "    }\n",
              "\n",
              "    [theme=dark] .colab-df-convert {\n",
              "      background-color: #3B4455;\n",
              "      fill: #D2E3FC;\n",
              "    }\n",
              "\n",
              "    [theme=dark] .colab-df-convert:hover {\n",
              "      background-color: #434B5C;\n",
              "      box-shadow: 0px 1px 3px 1px rgba(0, 0, 0, 0.15);\n",
              "      filter: drop-shadow(0px 1px 2px rgba(0, 0, 0, 0.3));\n",
              "      fill: #FFFFFF;\n",
              "    }\n",
              "  </style>\n",
              "\n",
              "    <script>\n",
              "      const buttonEl =\n",
              "        document.querySelector('#df-7eb33979-538c-45c8-9fef-81eb5564de8d button.colab-df-convert');\n",
              "      buttonEl.style.display =\n",
              "        google.colab.kernel.accessAllowed ? 'block' : 'none';\n",
              "\n",
              "      async function convertToInteractive(key) {\n",
              "        const element = document.querySelector('#df-7eb33979-538c-45c8-9fef-81eb5564de8d');\n",
              "        const dataTable =\n",
              "          await google.colab.kernel.invokeFunction('convertToInteractive',\n",
              "                                                    [key], {});\n",
              "        if (!dataTable) return;\n",
              "\n",
              "        const docLinkHtml = 'Like what you see? Visit the ' +\n",
              "          '<a target=\"_blank\" href=https://colab.research.google.com/notebooks/data_table.ipynb>data table notebook</a>'\n",
              "          + ' to learn more about interactive tables.';\n",
              "        element.innerHTML = '';\n",
              "        dataTable['output_type'] = 'display_data';\n",
              "        await google.colab.output.renderOutput(dataTable, element);\n",
              "        const docLink = document.createElement('div');\n",
              "        docLink.innerHTML = docLinkHtml;\n",
              "        element.appendChild(docLink);\n",
              "      }\n",
              "    </script>\n",
              "  </div>\n",
              "\n",
              "\n",
              "<div id=\"df-75e2b8bb-5c92-4419-b9df-5a5104199cbb\">\n",
              "  <button class=\"colab-df-quickchart\" onclick=\"quickchart('df-75e2b8bb-5c92-4419-b9df-5a5104199cbb')\"\n",
              "            title=\"Suggest charts\"\n",
              "            style=\"display:none;\">\n",
              "\n",
              "<svg xmlns=\"http://www.w3.org/2000/svg\" height=\"24px\"viewBox=\"0 0 24 24\"\n",
              "     width=\"24px\">\n",
              "    <g>\n",
              "        <path d=\"M19 3H5c-1.1 0-2 .9-2 2v14c0 1.1.9 2 2 2h14c1.1 0 2-.9 2-2V5c0-1.1-.9-2-2-2zM9 17H7v-7h2v7zm4 0h-2V7h2v10zm4 0h-2v-4h2v4z\"/>\n",
              "    </g>\n",
              "</svg>\n",
              "  </button>\n",
              "\n",
              "<style>\n",
              "  .colab-df-quickchart {\n",
              "      --bg-color: #E8F0FE;\n",
              "      --fill-color: #1967D2;\n",
              "      --hover-bg-color: #E2EBFA;\n",
              "      --hover-fill-color: #174EA6;\n",
              "      --disabled-fill-color: #AAA;\n",
              "      --disabled-bg-color: #DDD;\n",
              "  }\n",
              "\n",
              "  [theme=dark] .colab-df-quickchart {\n",
              "      --bg-color: #3B4455;\n",
              "      --fill-color: #D2E3FC;\n",
              "      --hover-bg-color: #434B5C;\n",
              "      --hover-fill-color: #FFFFFF;\n",
              "      --disabled-bg-color: #3B4455;\n",
              "      --disabled-fill-color: #666;\n",
              "  }\n",
              "\n",
              "  .colab-df-quickchart {\n",
              "    background-color: var(--bg-color);\n",
              "    border: none;\n",
              "    border-radius: 50%;\n",
              "    cursor: pointer;\n",
              "    display: none;\n",
              "    fill: var(--fill-color);\n",
              "    height: 32px;\n",
              "    padding: 0;\n",
              "    width: 32px;\n",
              "  }\n",
              "\n",
              "  .colab-df-quickchart:hover {\n",
              "    background-color: var(--hover-bg-color);\n",
              "    box-shadow: 0 1px 2px rgba(60, 64, 67, 0.3), 0 1px 3px 1px rgba(60, 64, 67, 0.15);\n",
              "    fill: var(--button-hover-fill-color);\n",
              "  }\n",
              "\n",
              "  .colab-df-quickchart-complete:disabled,\n",
              "  .colab-df-quickchart-complete:disabled:hover {\n",
              "    background-color: var(--disabled-bg-color);\n",
              "    fill: var(--disabled-fill-color);\n",
              "    box-shadow: none;\n",
              "  }\n",
              "\n",
              "  .colab-df-spinner {\n",
              "    border: 2px solid var(--fill-color);\n",
              "    border-color: transparent;\n",
              "    border-bottom-color: var(--fill-color);\n",
              "    animation:\n",
              "      spin 1s steps(1) infinite;\n",
              "  }\n",
              "\n",
              "  @keyframes spin {\n",
              "    0% {\n",
              "      border-color: transparent;\n",
              "      border-bottom-color: var(--fill-color);\n",
              "      border-left-color: var(--fill-color);\n",
              "    }\n",
              "    20% {\n",
              "      border-color: transparent;\n",
              "      border-left-color: var(--fill-color);\n",
              "      border-top-color: var(--fill-color);\n",
              "    }\n",
              "    30% {\n",
              "      border-color: transparent;\n",
              "      border-left-color: var(--fill-color);\n",
              "      border-top-color: var(--fill-color);\n",
              "      border-right-color: var(--fill-color);\n",
              "    }\n",
              "    40% {\n",
              "      border-color: transparent;\n",
              "      border-right-color: var(--fill-color);\n",
              "      border-top-color: var(--fill-color);\n",
              "    }\n",
              "    60% {\n",
              "      border-color: transparent;\n",
              "      border-right-color: var(--fill-color);\n",
              "    }\n",
              "    80% {\n",
              "      border-color: transparent;\n",
              "      border-right-color: var(--fill-color);\n",
              "      border-bottom-color: var(--fill-color);\n",
              "    }\n",
              "    90% {\n",
              "      border-color: transparent;\n",
              "      border-bottom-color: var(--fill-color);\n",
              "    }\n",
              "  }\n",
              "</style>\n",
              "\n",
              "  <script>\n",
              "    async function quickchart(key) {\n",
              "      const quickchartButtonEl =\n",
              "        document.querySelector('#' + key + ' button');\n",
              "      quickchartButtonEl.disabled = true;  // To prevent multiple clicks.\n",
              "      quickchartButtonEl.classList.add('colab-df-spinner');\n",
              "      try {\n",
              "        const charts = await google.colab.kernel.invokeFunction(\n",
              "            'suggestCharts', [key], {});\n",
              "      } catch (error) {\n",
              "        console.error('Error during call to suggestCharts:', error);\n",
              "      }\n",
              "      quickchartButtonEl.classList.remove('colab-df-spinner');\n",
              "      quickchartButtonEl.classList.add('colab-df-quickchart-complete');\n",
              "    }\n",
              "    (() => {\n",
              "      let quickchartButtonEl =\n",
              "        document.querySelector('#df-75e2b8bb-5c92-4419-b9df-5a5104199cbb button');\n",
              "      quickchartButtonEl.style.display =\n",
              "        google.colab.kernel.accessAllowed ? 'block' : 'none';\n",
              "    })();\n",
              "  </script>\n",
              "</div>\n",
              "\n",
              "    </div>\n",
              "  </div>\n"
            ],
            "application/vnd.google.colaboratory.intrinsic+json": {
              "type": "dataframe",
              "variable_name": "data",
              "summary": "{\n  \"name\": \"data\",\n  \"rows\": 52444,\n  \"fields\": [\n    {\n      \"column\": \"Age\",\n      \"properties\": {\n        \"dtype\": \"number\",\n        \"std\": 1.0000095341153832,\n        \"min\": -1.7021412637157018,\n        \"max\": 1.7011589469054649,\n        \"num_unique_values\": 52,\n        \"samples\": [\n          0.43326279000738316,\n          0.4999941666862296,\n          -1.7021412637157018\n        ],\n        \"semantic_type\": \"\",\n        \"description\": \"\"\n      }\n    },\n    {\n      \"column\": \"Gender\",\n      \"properties\": {\n        \"dtype\": \"number\",\n        \"std\": 1.0000095341153163,\n        \"min\": -1.2219465098588111,\n        \"max\": 1.2330878832391274,\n        \"num_unique_values\": 3,\n        \"samples\": [\n          -1.2219465098588111,\n          0.005570686690158173,\n          1.2330878832391274\n        ],\n        \"semantic_type\": \"\",\n        \"description\": \"\"\n      }\n    },\n    {\n      \"column\": \"Income\",\n      \"properties\": {\n        \"dtype\": \"number\",\n        \"std\": 1.000009534115448,\n        \"min\": -1.733829391426056,\n        \"max\": 1.7326319629952585,\n        \"num_unique_values\": 40983,\n        \"samples\": [\n          0.41680624556966733,\n          -0.09194179776607152,\n          -1.6176312828636825\n        ],\n        \"semantic_type\": \"\",\n        \"description\": \"\"\n      }\n    },\n    {\n      \"column\": \"Education_Level\",\n      \"properties\": {\n        \"dtype\": \"number\",\n        \"std\": 1.0000095341153152,\n        \"min\": -1.3428794636057717,\n        \"max\": 1.3323710810985434,\n        \"num_unique_values\": 4,\n        \"samples\": [\n          -0.45112928203766667,\n          1.3323710810985434,\n          -1.3428794636057717\n        ],\n        \"semantic_type\": \"\",\n        \"description\": \"\"\n      }\n    },\n    {\n      \"column\": \"Travel_Frequency\",\n      \"properties\": {\n        \"dtype\": \"number\",\n        \"std\": 1.0000095341154476,\n        \"min\": -1.560884835543191,\n        \"max\": 1.5683499801683383,\n        \"num_unique_values\": 10,\n        \"samples\": [\n          0.8729644655657762,\n          -1.2131920782419099,\n          -0.5178065636393478\n        ],\n        \"semantic_type\": \"\",\n        \"description\": \"\"\n      }\n    },\n    {\n      \"column\": \"Preferred_Activities\",\n      \"properties\": {\n        \"dtype\": \"number\",\n        \"std\": 1.0000095341154736,\n        \"min\": -1.3408978028658216,\n        \"max\": 1.3356241027238747,\n        \"num_unique_values\": 4,\n        \"samples\": [\n          -0.44872383433592294,\n          1.3356241027238747,\n          -1.3408978028658216\n        ],\n        \"semantic_type\": \"\",\n        \"description\": \"\"\n      }\n    },\n    {\n      \"column\": \"Vacation_Budget\",\n      \"properties\": {\n        \"dtype\": \"number\",\n        \"std\": 1.0000095341154476,\n        \"min\": -1.7285694159902492,\n        \"max\": 1.740445240524085,\n        \"num_unique_values\": 4500,\n        \"samples\": [\n          0.3910841271877691,\n          0.5244781115347306,\n          0.3332543651876413\n        ],\n        \"semantic_type\": \"\",\n        \"description\": \"\"\n      }\n    },\n    {\n      \"column\": \"Location\",\n      \"properties\": {\n        \"dtype\": \"number\",\n        \"std\": 1.000009534115311,\n        \"min\": -1.2248676139354755,\n        \"max\": 1.2253815476700813,\n        \"num_unique_values\": 3,\n        \"samples\": [\n          -1.2248676139354755,\n          0.0002569668673028531,\n          1.2253815476700813\n        ],\n        \"semantic_type\": \"\",\n        \"description\": \"\"\n      }\n    },\n    {\n      \"column\": \"Proximity_to_Mountains\",\n      \"properties\": {\n        \"dtype\": \"number\",\n        \"std\": 1.0000095341154445,\n        \"min\": -1.732493136848806,\n        \"max\": 1.7222444293181893,\n        \"num_unique_values\": 300,\n        \"samples\": [\n          -1.062343374849857,\n          1.4102781608014374,\n          -0.02245581312735001\n        ],\n        \"semantic_type\": \"\",\n        \"description\": \"\"\n      }\n    },\n    {\n      \"column\": \"Proximity_to_Beaches\",\n      \"properties\": {\n        \"dtype\": \"number\",\n        \"std\": 1.0000095341154662,\n        \"min\": -1.7334472723927379,\n        \"max\": 1.7244624330750686,\n        \"num_unique_values\": 300,\n        \"samples\": [\n          -0.31096267783574727,\n          -0.7272996323402323,\n          -0.05653453897189531\n        ],\n        \"semantic_type\": \"\",\n        \"description\": \"\"\n      }\n    },\n    {\n      \"column\": \"Favorite_Season\",\n      \"properties\": {\n        \"dtype\": \"number\",\n        \"std\": 1.0000095341155153,\n        \"min\": -1.3307741077755486,\n        \"max\": 1.351298959509533,\n        \"num_unique_values\": 4,\n        \"samples\": [\n          -0.4367497520138548,\n          1.351298959509533,\n          -1.3307741077755486\n        ],\n        \"semantic_type\": \"\",\n        \"description\": \"\"\n      }\n    },\n    {\n      \"column\": \"Pets\",\n      \"properties\": {\n        \"dtype\": \"number\",\n        \"std\": 1.0000095341156157,\n        \"min\": -1.0017175912960314,\n        \"max\": 0.998285353765417,\n        \"num_unique_values\": 2,\n        \"samples\": [\n          0.998285353765417,\n          -1.0017175912960314\n        ],\n        \"semantic_type\": \"\",\n        \"description\": \"\"\n      }\n    },\n    {\n      \"column\": \"Environmental_Concerns\",\n      \"properties\": {\n        \"dtype\": \"number\",\n        \"std\": 1.0000095341153352,\n        \"min\": -0.9968777291185975,\n        \"max\": 1.003132049989885,\n        \"num_unique_values\": 2,\n        \"samples\": [\n          -0.9968777291185975,\n          1.003132049989885\n        ],\n        \"semantic_type\": \"\",\n        \"description\": \"\"\n      }\n    },\n    {\n      \"column\": \"Preference\",\n      \"properties\": {\n        \"dtype\": \"number\",\n        \"std\": 1.0000095341153614,\n        \"min\": -0.5784364807089744,\n        \"max\": 1.728798292207169,\n        \"num_unique_values\": 2,\n        \"samples\": [\n          -0.5784364807089744,\n          1.728798292207169\n        ],\n        \"semantic_type\": \"\",\n        \"description\": \"\"\n      }\n    }\n  ]\n}"
            }
          },
          "metadata": {},
          "execution_count": 30
        }
      ]
    },
    {
      "cell_type": "code",
      "source": [
        "# Pisahkan fitur dan target\n",
        "X = data.drop('Preference', axis=1).values\n",
        "y = data['Preference'].values.astype(int)\n"
      ],
      "metadata": {
        "id": "MjMgm5qkroLz"
      },
      "execution_count": null,
      "outputs": []
    },
    {
      "cell_type": "code",
      "source": [
        "# Split data menjadi train dan test set\n",
        "X_train, X_test, y_train, y_test = train_test_split(X, y, test_size=0.2, random_state=42, stratify=y)\n"
      ],
      "metadata": {
        "id": "Doty_Q9gr7V1"
      },
      "execution_count": null,
      "outputs": []
    },
    {
      "cell_type": "markdown",
      "source": [
        "## Tabnet"
      ],
      "metadata": {
        "id": "PA_oBYPrm6dN"
      }
    },
    {
      "cell_type": "markdown",
      "source": [
        "### Pelatihan Model"
      ],
      "metadata": {
        "id": "k68Q8N4Rdjhn"
      }
    },
    {
      "cell_type": "code",
      "source": [
        "# Model TabNet\n",
        "model = TabNetClassifier()\n",
        "\n",
        "# Pelatihan model\n",
        "model.fit(\n",
        "    X_train, y_train,\n",
        "    eval_set=[(X_test, y_test)],\n",
        "    eval_metric=['accuracy'],\n",
        "    max_epochs=20,\n",
        "    batch_size=256,\n",
        "    virtual_batch_size=128\n",
        ")\n"
      ],
      "metadata": {
        "colab": {
          "base_uri": "https://localhost:8080/"
        },
        "id": "L880omeWr9or",
        "outputId": "652ba047-7f2d-4911-d458-1d595950e74c"
      },
      "execution_count": null,
      "outputs": [
        {
          "output_type": "stream",
          "name": "stderr",
          "text": [
            "/usr/local/lib/python3.10/dist-packages/pytorch_tabnet/abstract_model.py:82: UserWarning: Device used : cpu\n",
            "  warnings.warn(f\"Device used : {self.device}\")\n"
          ]
        },
        {
          "output_type": "stream",
          "name": "stdout",
          "text": [
            "epoch 0  | loss: 0.29264 | val_0_accuracy: 0.95891 |  0:00:06s\n",
            "epoch 1  | loss: 0.067   | val_0_accuracy: 0.98379 |  0:00:13s\n",
            "epoch 2  | loss: 0.05245 | val_0_accuracy: 0.99123 |  0:00:17s\n",
            "epoch 3  | loss: 0.04038 | val_0_accuracy: 0.9918  |  0:00:23s\n",
            "epoch 4  | loss: 0.04079 | val_0_accuracy: 0.98084 |  0:00:28s\n",
            "epoch 5  | loss: 0.04252 | val_0_accuracy: 0.98999 |  0:00:32s\n",
            "epoch 6  | loss: 0.04262 | val_0_accuracy: 0.99056 |  0:00:38s\n",
            "epoch 7  | loss: 0.04026 | val_0_accuracy: 0.98522 |  0:00:42s\n",
            "epoch 8  | loss: 0.04164 | val_0_accuracy: 0.98246 |  0:00:47s\n",
            "epoch 9  | loss: 0.03561 | val_0_accuracy: 0.98503 |  0:00:53s\n",
            "epoch 10 | loss: 0.03777 | val_0_accuracy: 0.99352 |  0:00:57s\n",
            "epoch 11 | loss: 0.0379  | val_0_accuracy: 0.99571 |  0:01:01s\n",
            "epoch 12 | loss: 0.03833 | val_0_accuracy: 0.98627 |  0:01:07s\n",
            "epoch 13 | loss: 0.04113 | val_0_accuracy: 0.99047 |  0:01:12s\n",
            "epoch 14 | loss: 0.03551 | val_0_accuracy: 0.99418 |  0:01:16s\n",
            "epoch 15 | loss: 0.03475 | val_0_accuracy: 0.98722 |  0:01:22s\n",
            "epoch 16 | loss: 0.03683 | val_0_accuracy: 0.996   |  0:01:26s\n",
            "epoch 17 | loss: 0.03463 | val_0_accuracy: 0.99075 |  0:01:31s\n",
            "epoch 18 | loss: 0.03923 | val_0_accuracy: 0.99228 |  0:01:37s\n",
            "epoch 19 | loss: 0.04297 | val_0_accuracy: 0.98417 |  0:01:41s\n",
            "Stop training because you reached max_epochs = 20 with best_epoch = 16 and best_val_0_accuracy = 0.996\n"
          ]
        },
        {
          "output_type": "stream",
          "name": "stderr",
          "text": [
            "/usr/local/lib/python3.10/dist-packages/pytorch_tabnet/callbacks.py:172: UserWarning: Best weights from best epoch are automatically used!\n",
            "  warnings.warn(wrn_msg)\n"
          ]
        }
      ]
    },
    {
      "cell_type": "markdown",
      "source": [
        "### Evaluasi"
      ],
      "metadata": {
        "id": "hr6ya_YadmkU"
      }
    },
    {
      "cell_type": "code",
      "source": [
        "# Prediksi pada data uji\n",
        "y_pred = model.predict(X_test)\n",
        "\n",
        "# Classification Report\n",
        "from sklearn.metrics import classification_report, confusion_matrix\n",
        "print(\"Classification Report:\")\n",
        "print(classification_report(y_test, y_pred))"
      ],
      "metadata": {
        "colab": {
          "base_uri": "https://localhost:8080/"
        },
        "id": "x0RTk3W3snDf",
        "outputId": "be2ac669-2707-4b75-aa70-e7a9f2c18040"
      },
      "execution_count": null,
      "outputs": [
        {
          "output_type": "stream",
          "name": "stdout",
          "text": [
            "Classification Report:\n",
            "              precision    recall  f1-score   support\n",
            "\n",
            "           0       1.00      1.00      1.00      7859\n",
            "           1       0.99      0.99      0.99      2630\n",
            "\n",
            "    accuracy                           1.00     10489\n",
            "   macro avg       0.99      0.99      0.99     10489\n",
            "weighted avg       1.00      1.00      1.00     10489\n",
            "\n"
          ]
        }
      ]
    },
    {
      "cell_type": "code",
      "source": [
        "cm = confusion_matrix(y_test, y_pred)\n",
        "\n",
        "# Plot Confusion Matrix using seaborn\n",
        "plt.figure(figsize=(8, 6))\n",
        "sns.heatmap(cm, annot=True, fmt=\"d\", cmap=\"Blues\",\n",
        "            xticklabels=np.unique(y), yticklabels=np.unique(y))\n",
        "plt.xlabel(\"Predicted\")\n",
        "plt.ylabel(\"True\")\n",
        "plt.title(\"Confusion Matrix\")\n",
        "plt.show()"
      ],
      "metadata": {
        "colab": {
          "base_uri": "https://localhost:8080/",
          "height": 564
        },
        "id": "BhMotApBlc2l",
        "outputId": "c553987a-3fc4-4cc9-9069-3ae4b4661078"
      },
      "execution_count": null,
      "outputs": [
        {
          "output_type": "display_data",
          "data": {
            "text/plain": [
              "<Figure size 800x600 with 2 Axes>"
            ],
            "image/png": "[encoded data removed]"
          },
          "metadata": {}
        }
      ]
    },
    {
      "cell_type": "code",
      "source": [
        "\n",
        "model.save_model(\"tabnet_model.h5\")"
      ],
      "metadata": {
        "colab": {
          "base_uri": "https://localhost:8080/",
          "height": 53
        },
        "id": "3McIXCS89mw3",
        "outputId": "b11cd012-9188-4f0b-80da-961fc0bd3f36"
      },
      "execution_count": null,
      "outputs": [
        {
          "output_type": "stream",
          "name": "stdout",
          "text": [
            "Successfully saved model at tabnet_model.h5.zip\n"
          ]
        },
        {
          "output_type": "execute_result",
          "data": {
            "text/plain": [
              "'tabnet_model.h5.zip'"
            ],
            "application/vnd.google.colaboratory.intrinsic+json": {
              "type": "string"
            }
          },
          "metadata": {},
          "execution_count": 48
        }
      ]
    },
    {
      "cell_type": "code",
      "source": [
        "\n",
        "model.save_model(\"/content/drive/MyDrive/trained_tabnet_model.h5\")"
      ],
      "metadata": {
        "colab": {
          "base_uri": "https://localhost:8080/",
          "height": 53
        },
        "id": "TqmX7UXy8rlZ",
        "outputId": "0464eb50-4ba5-4411-b380-cd7b4dec56db"
      },
      "execution_count": null,
      "outputs": [
        {
          "output_type": "stream",
          "name": "stdout",
          "text": [
            "Successfully saved model at /content/drive/MyDrive/trained_tabnet_model.h5.zip\n"
          ]
        },
        {
          "output_type": "execute_result",
          "data": {
            "text/plain": [
              "'/content/drive/MyDrive/trained_tabnet_model.h5.zip'"
            ],
            "application/vnd.google.colaboratory.intrinsic+json": {
              "type": "string"
            }
          },
          "metadata": {},
          "execution_count": 46
        }
      ]
    },
    {
      "cell_type": "markdown",
      "source": [
        "## Feedfast Neural Network"
      ],
      "metadata": {
        "id": "0Y_HAbi1nBSH"
      }
    },
    {
      "cell_type": "code",
      "source": [
        "# Konversi data menjadi tensor\n",
        "X_train_tensor = torch.tensor(X_train, dtype=torch.float32)\n",
        "y_train_tensor = torch.tensor(y_train, dtype=torch.long)\n",
        "X_test_tensor = torch.tensor(X_test, dtype=torch.float32)\n",
        "y_test_tensor = torch.tensor(y_test, dtype=torch.long)"
      ],
      "metadata": {
        "id": "fkk7JvI5nFA4"
      },
      "execution_count": null,
      "outputs": []
    },
    {
      "cell_type": "code",
      "source": [
        "# Dataset dan DataLoader\n",
        "train_dataset = TensorDataset(X_train_tensor, y_train_tensor)\n",
        "test_dataset = TensorDataset(X_test_tensor, y_test_tensor)\n",
        "train_loader = DataLoader(train_dataset, batch_size=32, shuffle=True)\n",
        "test_loader = DataLoader(test_dataset, batch_size=32, shuffle=False)"
      ],
      "metadata": {
        "id": "YWPId5GZn03u"
      },
      "execution_count": null,
      "outputs": []
    },
    {
      "cell_type": "code",
      "source": [
        "# Definisi model Feedforward Neural Network\n",
        "class FFNN(nn.Module):\n",
        "    def __init__(self, input_dim, hidden_dim, output_dim):\n",
        "        super(FFNN, self).__init__()\n",
        "        self.fc1 = nn.Linear(input_dim, hidden_dim)\n",
        "        self.relu = nn.ReLU()\n",
        "        self.fc2 = nn.Linear(hidden_dim, output_dim)\n",
        "        self.softmax = nn.Softmax(dim=1)\n",
        "\n",
        "    def forward(self, x):\n",
        "        x = self.fc1(x)\n",
        "        x = self.relu(x)\n",
        "        x = self.fc2(x)\n",
        "        return self.softmax(x)"
      ],
      "metadata": {
        "id": "yXrubWGHn3bZ"
      },
      "execution_count": null,
      "outputs": []
    },
    {
      "cell_type": "code",
      "source": [
        "# Inisialisasi model\n",
        "input_dim = X_train.shape[1]\n",
        "hidden_dim = 64  # Jumlah neuron di hidden layer\n",
        "output_dim = len(set(y))  # Jumlah kelas\n",
        "model = FFNN(input_dim, hidden_dim, output_dim)\n",
        "\n",
        "# Loss function dan optimizer\n",
        "criterion = nn.CrossEntropyLoss()\n",
        "optimizer = optim.Adam(model.parameters(), lr=0.001)"
      ],
      "metadata": {
        "id": "L6qtv_ien7FI"
      },
      "execution_count": null,
      "outputs": []
    },
    {
      "cell_type": "code",
      "source": [
        "# Pelatihan model\n",
        "num_epochs = 20\n",
        "for epoch in range(num_epochs):\n",
        "    model.train()\n",
        "    running_loss = 0.0\n",
        "    correct = 0\n",
        "    total = 0\n",
        "\n",
        "    for X_batch, y_batch in train_loader:\n",
        "        optimizer.zero_grad()\n",
        "\n",
        "        # Forward pass\n",
        "        outputs = model(X_batch)\n",
        "\n",
        "        # Menghitung loss\n",
        "        loss = criterion(outputs, y_batch)\n",
        "        loss.backward()\n",
        "        optimizer.step()\n",
        "\n",
        "        # Menambahkan loss ke running loss\n",
        "        running_loss += loss.item()\n",
        "\n",
        "        # Menghitung akurasi\n",
        "        _, predicted = torch.max(outputs, 1)\n",
        "        total += y_batch.size(0)\n",
        "        correct += (predicted == y_batch).sum().item()\n",
        "\n",
        "    # Menghitung akurasi per epoch\n",
        "    accuracy = (correct / total) * 100\n",
        "    print(f\"Epoch {epoch+1}/{num_epochs}, Loss: {running_loss/len(train_loader):.4f}, Accuracy: {accuracy:.2f}%\")\n"
      ],
      "metadata": {
        "colab": {
          "base_uri": "https://localhost:8080/"
        },
        "id": "Y7DRS120n-x3",
        "outputId": "8a54ae49-b42d-4455-8bdc-9c7bd2c646bf"
      },
      "execution_count": null,
      "outputs": [
        {
          "output_type": "stream",
          "name": "stdout",
          "text": [
            "Epoch 1/20, Loss: 0.4985, Accuracy: 80.30%\n",
            "Epoch 2/20, Loss: 0.4774, Accuracy: 80.97%\n",
            "Epoch 3/20, Loss: 0.4143, Accuracy: 91.56%\n",
            "Epoch 4/20, Loss: 0.3331, Accuracy: 99.57%\n",
            "Epoch 5/20, Loss: 0.3233, Accuracy: 99.63%\n",
            "Epoch 6/20, Loss: 0.3205, Accuracy: 99.64%\n",
            "Epoch 7/20, Loss: 0.3191, Accuracy: 99.69%\n",
            "Epoch 8/20, Loss: 0.3183, Accuracy: 99.71%\n",
            "Epoch 9/20, Loss: 0.3177, Accuracy: 99.74%\n",
            "Epoch 10/20, Loss: 0.3173, Accuracy: 99.74%\n",
            "Epoch 11/20, Loss: 0.3170, Accuracy: 99.74%\n",
            "Epoch 12/20, Loss: 0.3168, Accuracy: 99.74%\n",
            "Epoch 13/20, Loss: 0.3165, Accuracy: 99.76%\n",
            "Epoch 14/20, Loss: 0.3163, Accuracy: 99.77%\n",
            "Epoch 15/20, Loss: 0.3164, Accuracy: 99.76%\n",
            "Epoch 16/20, Loss: 0.3161, Accuracy: 99.79%\n",
            "Epoch 17/20, Loss: 0.3159, Accuracy: 99.80%\n",
            "Epoch 18/20, Loss: 0.3158, Accuracy: 99.82%\n",
            "Epoch 19/20, Loss: 0.3158, Accuracy: 99.80%\n",
            "Epoch 20/20, Loss: 0.3157, Accuracy: 99.79%\n"
          ]
        }
      ]
    },
    {
      "cell_type": "markdown",
      "source": [
        "### Evaluasi Model"
      ],
      "metadata": {
        "id": "4r7sJNaIjekP"
      }
    },
    {
      "cell_type": "markdown",
      "source": [
        "### Pelatihan Model"
      ],
      "metadata": {
        "id": "-_spNvOdjYax"
      }
    },
    {
      "cell_type": "code",
      "source": [
        "# Evaluasi model\n",
        "model.eval()\n",
        "y_pred = []\n",
        "y_true = []\n",
        "with torch.no_grad():\n",
        "    for X_batch, y_batch in test_loader:\n",
        "        outputs = model(X_batch)\n",
        "        _, predicted = torch.max(outputs, 1)\n",
        "        y_pred.extend(predicted.numpy())\n",
        "        y_true.extend(y_batch.numpy())\n"
      ],
      "metadata": {
        "id": "EVxrDb-hoBYU"
      },
      "execution_count": null,
      "outputs": []
    },
    {
      "cell_type": "code",
      "source": [
        "cm = confusion_matrix(y_test, y_pred)\n",
        "\n",
        "# Plot Confusion Matrix using seaborn\n",
        "plt.figure(figsize=(8, 6))\n",
        "sns.heatmap(cm, annot=True, fmt=\"d\", cmap=\"Blues\",\n",
        "            xticklabels=np.unique(y), yticklabels=np.unique(y))\n",
        "plt.xlabel(\"Predicted\")\n",
        "plt.ylabel(\"True\")\n",
        "plt.title(\"Confusion Matrix\")\n",
        "plt.show()"
      ],
      "metadata": {
        "colab": {
          "base_uri": "https://localhost:8080/",
          "height": 564
        },
        "id": "uiKk3L4qoC_b",
        "outputId": "2362bd0a-c5d8-46e0-956a-a867b5b076f9"
      },
      "execution_count": null,
      "outputs": [
        {
          "output_type": "display_data",
          "data": {
            "text/plain": [
              "<Figure size 800x600 with 2 Axes>"
            ],
            "image/png": "[encoded data removed]"
          },
          "metadata": {}
        }
      ]
    },
    {
      "cell_type": "code",
      "source": [
        "print(\"\\nClassification Report:\")\n",
        "print(classification_report(y_true, y_pred))"
      ],
      "metadata": {
        "colab": {
          "base_uri": "https://localhost:8080/"
        },
        "id": "hK8UtEqToFKm",
        "outputId": "b4d056df-da4d-4d83-ff06-52a1d2194d64"
      },
      "execution_count": null,
      "outputs": [
        {
          "output_type": "stream",
          "name": "stdout",
          "text": [
            "\n",
            "Classification Report:\n",
            "              precision    recall  f1-score   support\n",
            "\n",
            "           0       1.00      1.00      1.00      7859\n",
            "           1       1.00      0.99      0.99      2630\n",
            "\n",
            "    accuracy                           1.00     10489\n",
            "   macro avg       1.00      0.99      1.00     10489\n",
            "weighted avg       1.00      1.00      1.00     10489\n",
            "\n"
          ]
        }
      ]
    },
    {
      "cell_type": "markdown",
      "source": [
        "### Menyimpan Model"
      ],
      "metadata": {
        "id": "a2ZZ4jQWjhhz"
      }
    },
    {
      "cell_type": "code",
      "source": [
        "# Path di Google Drive\n",
        "save_path = '/content/drive/My Drive/FNN_UAP.h5'\n",
        "\n",
        "# Simpan model ke Google Drive\n",
        "torch.save(model.state_dict(), save_path)\n",
        "print(f\"Model saved to {save_path}\")\n"
      ],
      "metadata": {
        "id": "pL-qHjG6jhAg",
        "colab": {
          "base_uri": "https://localhost:8080/"
        },
        "outputId": "0faf1188-1498-4471-f6be-a6ac2cdb681e"
      },
      "execution_count": null,
      "outputs": [
        {
          "output_type": "stream",
          "name": "stdout",
          "text": [
            "Model saved to /content/drive/My Drive/FNN_UAP.h5\n"
          ]
        }
      ]
    },
    {
      "cell_type": "code",
      "source": [
        "# Path di Google Drive\n",
        "save_path = '/content/drive/My Drive/FNN_UAP.pth'\n",
        "\n",
        "# Simpan model ke Google Drive\n",
        "torch.save(model.state_dict(), save_path)\n",
        "print(f\"Model saved to {save_path}\")"
      ],
      "metadata": {
        "colab": {
          "base_uri": "https://localhost:8080/"
        },
        "id": "pL6CRSlQ-tkD",
        "outputId": "a14cc0cb-a7cb-4228-f2d4-eaa5bf7483ad"
      },
      "execution_count": null,
      "outputs": [
        {
          "output_type": "stream",
          "name": "stdout",
          "text": [
            "Model saved to /content/drive/My Drive/FNN_UAP.pth\n"
          ]
        }
      ]
    },
    {
      "cell_type": "code",
      "source": [
        "torch.save(model.state_dict(), \"FNN_UAP.pth\")"
      ],
      "metadata": {
        "id": "C5O8z5xZCi5d"
      },
      "execution_count": null,
      "outputs": []
    },
    {
      "cell_type": "markdown",
      "source": [
        "## Penggunaan Model"
      ],
      "metadata": {
        "id": "dIFwki_LB8Sx"
      }
    },
    {
      "cell_type": "code",
      "source": [
        "import torch\n",
        "import torch.nn as nn\n",
        "import shap\n",
        "import joblib\n",
        "import numpy as np\n",
        "from sklearn.preprocessing import StandardScaler\n",
        "\n",
        "class FFNN(nn.Module):\n",
        "    def __init__(self, input_dim, hidden_dim):\n",
        "        super(FFNN, self).__init__()\n",
        "        self.fc1 = nn.Linear(input_dim, hidden_dim)\n",
        "        self.relu = nn.ReLU()\n",
        "        self.fc2 = nn.Linear(hidden_dim, 2)\n",
        "        self.softmax = nn.Softmax(dim=1)\n",
        "\n",
        "    def forward(self, x):\n",
        "        x = self.fc1(x)\n",
        "        x = self.relu(x)\n",
        "        x = self.fc2(x)\n",
        "        return self.softmax(x)\n",
        "\n",
        "# Load model dan scaler\n",
        "model = FFNN(input_dim=13, hidden_dim=64)\n",
        "model.load_state_dict(torch.load(\"FNN_UAP.pth\"))\n",
        "model.eval()\n",
        "\n",
        "scaler = joblib.load(\"scaler2.pkl\")\n",
        "\n",
        "# Data input dari user\n",
        "user_data = [\n",
        "    25,  # Age\n",
        "    1,   # Gender (1 = female, 0 = male, 2 = non-binary)\n",
        "    50000,  # Income\n",
        "    0,   # Education_Level (0 = bachelor, 1 = master, 2 = high school, 3 = doctorate)\n",
        "    2,   # Travel_Frequency\n",
        "    2,   # Preferred_Activities (0 = skiing, 1 = swimming, 2 = hiking, 3 = sunbathing)\n",
        "    3000,  # Vacation_Budget\n",
        "    1,   # Location (0 = urban, 1 = suburban, 2 = rural)\n",
        "    15,  # Proximity_to_Mountains\n",
        "    50,  # Proximity_to_Beaches\n",
        "    3,   # Favorite_Season (0 = summer, 1 = fall, 2 = winter, 3 = spring)\n",
        "    1,   # Pets (1 = Yes, 0 = No)\n",
        "    0    # Environmental_Concerns (1 = Yes, 0 = No)\n",
        "]\n",
        "\n",
        "# Preprocessing data input\n",
        "user_data = np.array(user_data).reshape(1, -1)  # Bentuk array 2D\n",
        "user_data_scaled = scaler.transform(user_data)\n",
        "\n",
        "# Prediksi dengan model\n",
        "output = model(torch.tensor(user_data_scaled, dtype=torch.float32))\n",
        "predicted_class = torch.argmax(output, dim=1).item()  # Ambil kelas dengan probabilitas terbesar\n",
        "class_probabilities = output.detach().numpy()[0]\n",
        "\n",
        "# Tampilkan hasil prediksi\n",
        "class_labels = {1: \"Gunung\", 0: \"Pantai\"}\n",
        "print(f\"Predicted Class: {class_labels[predicted_class]}\")\n",
        "print(f\"Class Probabilities: {class_probabilities}\")\n"
      ],
      "metadata": {
        "colab": {
          "base_uri": "https://localhost:8080/"
        },
        "id": "btPWblKSDcQP",
        "outputId": "96381cce-13dd-48f2-dd7d-6bf96620a09e"
      },
      "execution_count": null,
      "outputs": [
        {
          "output_type": "stream",
          "name": "stdout",
          "text": [
            "Predicted Class: Gunung\n",
            "Class Probabilities: [3.6261720e-04 9.9963737e-01]\n"
          ]
        },
        {
          "output_type": "stream",
          "name": "stderr",
          "text": [
            "<ipython-input-12-63913aae7499>:25: FutureWarning: You are using `torch.load` with `weights_only=False` (the current default value), which uses the default pickle module implicitly. It is possible to construct malicious pickle data which will execute arbitrary code during unpickling (See https://github.com/pytorch/pytorch/blob/main/SECURITY.md#untrusted-models for more details). In a future release, the default value for `weights_only` will be flipped to `True`. This limits the functions that could be executed during unpickling. Arbitrary objects will no longer be allowed to be loaded via this mode unless they are explicitly allowlisted by the user via `torch.serialization.add_safe_globals`. We recommend you start setting `weights_only=True` for any use case where you don't have full control of the loaded file. Please open an issue on GitHub for any issues related to this experimental feature.\n",
            "  model.load_state_dict(torch.load(\"FNN_UAP.pth\"))\n",
            "/usr/local/lib/python3.10/dist-packages/sklearn/utils/validation.py:2739: UserWarning: X does not have valid feature names, but StandardScaler was fitted with feature names\n",
            "  warnings.warn(\n"
          ]
        }
      ]
    }
  ]
}
